{
 "cells": [
  {
   "cell_type": "code",
   "execution_count": 6,
   "metadata": {},
   "outputs": [],
   "source": [
    "import pandas_datareader as pdr"
   ]
  },
  {
   "cell_type": "code",
   "execution_count": 7,
   "metadata": {},
   "outputs": [],
   "source": [
    "import datetime"
   ]
  },
  {
   "cell_type": "code",
   "execution_count": 8,
   "metadata": {},
   "outputs": [],
   "source": [
    "ticker = 'NFLX'"
   ]
  },
  {
   "cell_type": "code",
   "execution_count": 18,
   "metadata": {},
   "outputs": [],
   "source": [
    "ohlcv = pdr.get_data_yahoo(ticker, datetime.date.today()- datetime.timedelta(1025), datetime.date.today())"
   ]
  },
  {
   "cell_type": "code",
   "execution_count": 19,
   "metadata": {},
   "outputs": [
    {
     "output_type": "execute_result",
     "data": {
      "text/plain": "                  High         Low        Open       Close   Volume  \\\nDate                                                                  \n2017-09-11  182.470001  178.029999  178.100006  181.740005  5979400   \n2017-09-12  185.330002  180.639999  182.550003  185.149994  6689600   \n2017-09-13  184.500000  182.550003  184.070007  183.639999  4320300   \n2017-09-14  185.289993  182.070007  183.250000  182.630005  4510700   \n2017-09-15  184.929993  181.429993  182.729996  182.350006  5591700   \n...                ...         ...         ...         ...      ...   \n2020-06-24  472.359985  454.000000  468.540009  457.850006  4826200   \n2020-06-25  467.010010  454.000000  458.859985  465.910004  4134500   \n2020-06-26  468.029999  442.239990  466.390015  443.399994  6804700   \n2020-06-29  447.670013  432.140015  445.230011  447.239990  4844000   \n2020-06-30  457.589996  447.000000  450.019989  455.040009  4194900   \n\n             Adj Close  \nDate                    \n2017-09-11  181.740005  \n2017-09-12  185.149994  \n2017-09-13  183.639999  \n2017-09-14  182.630005  \n2017-09-15  182.350006  \n...                ...  \n2020-06-24  457.850006  \n2020-06-25  465.910004  \n2020-06-26  443.399994  \n2020-06-29  447.239990  \n2020-06-30  455.040009  \n\n[706 rows x 6 columns]",
      "text/html": "<div>\n<style scoped>\n    .dataframe tbody tr th:only-of-type {\n        vertical-align: middle;\n    }\n\n    .dataframe tbody tr th {\n        vertical-align: top;\n    }\n\n    .dataframe thead th {\n        text-align: right;\n    }\n</style>\n<table border=\"1\" class=\"dataframe\">\n  <thead>\n    <tr style=\"text-align: right;\">\n      <th></th>\n      <th>High</th>\n      <th>Low</th>\n      <th>Open</th>\n      <th>Close</th>\n      <th>Volume</th>\n      <th>Adj Close</th>\n    </tr>\n    <tr>\n      <th>Date</th>\n      <th></th>\n      <th></th>\n      <th></th>\n      <th></th>\n      <th></th>\n      <th></th>\n    </tr>\n  </thead>\n  <tbody>\n    <tr>\n      <th>2017-09-11</th>\n      <td>182.470001</td>\n      <td>178.029999</td>\n      <td>178.100006</td>\n      <td>181.740005</td>\n      <td>5979400</td>\n      <td>181.740005</td>\n    </tr>\n    <tr>\n      <th>2017-09-12</th>\n      <td>185.330002</td>\n      <td>180.639999</td>\n      <td>182.550003</td>\n      <td>185.149994</td>\n      <td>6689600</td>\n      <td>185.149994</td>\n    </tr>\n    <tr>\n      <th>2017-09-13</th>\n      <td>184.500000</td>\n      <td>182.550003</td>\n      <td>184.070007</td>\n      <td>183.639999</td>\n      <td>4320300</td>\n      <td>183.639999</td>\n    </tr>\n    <tr>\n      <th>2017-09-14</th>\n      <td>185.289993</td>\n      <td>182.070007</td>\n      <td>183.250000</td>\n      <td>182.630005</td>\n      <td>4510700</td>\n      <td>182.630005</td>\n    </tr>\n    <tr>\n      <th>2017-09-15</th>\n      <td>184.929993</td>\n      <td>181.429993</td>\n      <td>182.729996</td>\n      <td>182.350006</td>\n      <td>5591700</td>\n      <td>182.350006</td>\n    </tr>\n    <tr>\n      <th>...</th>\n      <td>...</td>\n      <td>...</td>\n      <td>...</td>\n      <td>...</td>\n      <td>...</td>\n      <td>...</td>\n    </tr>\n    <tr>\n      <th>2020-06-24</th>\n      <td>472.359985</td>\n      <td>454.000000</td>\n      <td>468.540009</td>\n      <td>457.850006</td>\n      <td>4826200</td>\n      <td>457.850006</td>\n    </tr>\n    <tr>\n      <th>2020-06-25</th>\n      <td>467.010010</td>\n      <td>454.000000</td>\n      <td>458.859985</td>\n      <td>465.910004</td>\n      <td>4134500</td>\n      <td>465.910004</td>\n    </tr>\n    <tr>\n      <th>2020-06-26</th>\n      <td>468.029999</td>\n      <td>442.239990</td>\n      <td>466.390015</td>\n      <td>443.399994</td>\n      <td>6804700</td>\n      <td>443.399994</td>\n    </tr>\n    <tr>\n      <th>2020-06-29</th>\n      <td>447.670013</td>\n      <td>432.140015</td>\n      <td>445.230011</td>\n      <td>447.239990</td>\n      <td>4844000</td>\n      <td>447.239990</td>\n    </tr>\n    <tr>\n      <th>2020-06-30</th>\n      <td>457.589996</td>\n      <td>447.000000</td>\n      <td>450.019989</td>\n      <td>455.040009</td>\n      <td>4194900</td>\n      <td>455.040009</td>\n    </tr>\n  </tbody>\n</table>\n<p>706 rows × 6 columns</p>\n</div>"
     },
     "metadata": {},
     "execution_count": 19
    }
   ],
   "source": [
    "ohlcv"
   ]
  },
  {
   "cell_type": "code",
   "execution_count": 28,
   "metadata": {},
   "outputs": [],
   "source": [
    "def ATR(DF, n):\n",
    "    df = DF.copy()\n",
    "    df[\"H-L\"] = abs(df[\"High\"] - df[\"Low\"])\n",
    "    df[\"H-PC\"] = abs(df[\"High\"] - df[\"Adj Close\"].shift(1))\n",
    "    df[\"L-PC\"] = abs(df[\"Low\"] - df[\"Adj Close\"].shift(1))\n",
    "    df[\"TR\"] = df[[\"H-L\",\"H-PC\", \"L-PC\"]].max(axis=1, skipna=False)\n",
    "    df['ATR'] = df['TR'].rolling(n).mean()\n",
    "    df2 = df.drop([\"H-L\",\"H-PC\", \"L-PC\"], axis=1)\n",
    "    return df2 \n",
    "    "
   ]
  },
  {
   "cell_type": "code",
   "execution_count": 29,
   "metadata": {},
   "outputs": [],
   "source": [
    "atr = ATR(ohlcv, 20)"
   ]
  },
  {
   "cell_type": "code",
   "execution_count": null,
   "metadata": {},
   "outputs": [],
   "source": []
  }
 ],
 "metadata": {
  "language_info": {
   "codemirror_mode": {
    "name": "ipython",
    "version": 3
   },
   "file_extension": ".py",
   "mimetype": "text/x-python",
   "name": "python",
   "nbconvert_exporter": "python",
   "pygments_lexer": "ipython3",
   "version": "3.8.3-final"
  },
  "orig_nbformat": 2,
  "kernelspec": {
   "name": "python3",
   "display_name": "Python 3"
  }
 },
 "nbformat": 4,
 "nbformat_minor": 2
}