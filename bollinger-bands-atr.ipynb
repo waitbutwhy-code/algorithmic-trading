{
 "cells": [
  {
   "cell_type": "code",
   "execution_count": 1,
   "metadata": {},
   "outputs": [
    {
     "name": "stderr",
     "output_type": "stream",
     "text": [
      "/home/mo/miniconda3/envs/algo/lib/python3.8/site-packages/pandas_datareader/compat/__init__.py:7: FutureWarning: pandas.util.testing is deprecated. Use the functions in the public API at pandas.testing instead.\n",
      "  from pandas.util.testing import assert_frame_equal\n"
     ]
    }
   ],
   "source": [
    "import pandas_datareader as pdr"
   ]
  },
  {
   "cell_type": "code",
   "execution_count": 2,
   "metadata": {},
   "outputs": [],
   "source": [
    "import datetime"
   ]
  },
  {
   "cell_type": "code",
   "execution_count": 3,
   "metadata": {},
   "outputs": [],
   "source": [
    "import numpy as np"
   ]
  },
  {
   "cell_type": "code",
   "execution_count": 4,
   "metadata": {},
   "outputs": [],
   "source": [
    "import statsmodels.api "
   ]
  },
  {
   "cell_type": "code",
   "execution_count": 5,
   "metadata": {},
   "outputs": [],
   "source": [
    "ticker = 'NFLX'"
   ]
  },
  {
   "cell_type": "code",
   "execution_count": 6,
   "metadata": {},
   "outputs": [],
   "source": [
    "ohlcv = pdr.get_data_yahoo(ticker, datetime.date.today()- datetime.timedelta(1025), datetime.date.today())"
   ]
  },
  {
   "cell_type": "code",
   "execution_count": 7,
   "metadata": {},
   "outputs": [
    {
     "data": {
      "text/html": [
       "<div>\n",
       "<style scoped>\n",
       "    .dataframe tbody tr th:only-of-type {\n",
       "        vertical-align: middle;\n",
       "    }\n",
       "\n",
       "    .dataframe tbody tr th {\n",
       "        vertical-align: top;\n",
       "    }\n",
       "\n",
       "    .dataframe thead th {\n",
       "        text-align: right;\n",
       "    }\n",
       "</style>\n",
       "<table border=\"1\" class=\"dataframe\">\n",
       "  <thead>\n",
       "    <tr style=\"text-align: right;\">\n",
       "      <th></th>\n",
       "      <th>High</th>\n",
       "      <th>Low</th>\n",
       "      <th>Open</th>\n",
       "      <th>Close</th>\n",
       "      <th>Volume</th>\n",
       "      <th>Adj Close</th>\n",
       "    </tr>\n",
       "    <tr>\n",
       "      <th>Date</th>\n",
       "      <th></th>\n",
       "      <th></th>\n",
       "      <th></th>\n",
       "      <th></th>\n",
       "      <th></th>\n",
       "      <th></th>\n",
       "    </tr>\n",
       "  </thead>\n",
       "  <tbody>\n",
       "    <tr>\n",
       "      <th>2017-09-18</th>\n",
       "      <td>185.449997</td>\n",
       "      <td>182.729996</td>\n",
       "      <td>183.610001</td>\n",
       "      <td>184.619995</td>\n",
       "      <td>5359600</td>\n",
       "      <td>184.619995</td>\n",
       "    </tr>\n",
       "    <tr>\n",
       "      <th>2017-09-19</th>\n",
       "      <td>186.229996</td>\n",
       "      <td>184.169998</td>\n",
       "      <td>184.979996</td>\n",
       "      <td>185.679993</td>\n",
       "      <td>4982100</td>\n",
       "      <td>185.679993</td>\n",
       "    </tr>\n",
       "    <tr>\n",
       "      <th>2017-09-20</th>\n",
       "      <td>186.500000</td>\n",
       "      <td>183.199997</td>\n",
       "      <td>186.100006</td>\n",
       "      <td>185.509995</td>\n",
       "      <td>4625000</td>\n",
       "      <td>185.509995</td>\n",
       "    </tr>\n",
       "    <tr>\n",
       "      <th>2017-09-21</th>\n",
       "      <td>189.949997</td>\n",
       "      <td>184.509995</td>\n",
       "      <td>185.820007</td>\n",
       "      <td>188.779999</td>\n",
       "      <td>7148100</td>\n",
       "      <td>188.779999</td>\n",
       "    </tr>\n",
       "    <tr>\n",
       "      <th>2017-09-22</th>\n",
       "      <td>189.850006</td>\n",
       "      <td>186.389999</td>\n",
       "      <td>188.399994</td>\n",
       "      <td>187.350006</td>\n",
       "      <td>5464300</td>\n",
       "      <td>187.350006</td>\n",
       "    </tr>\n",
       "    <tr>\n",
       "      <th>...</th>\n",
       "      <td>...</td>\n",
       "      <td>...</td>\n",
       "      <td>...</td>\n",
       "      <td>...</td>\n",
       "      <td>...</td>\n",
       "      <td>...</td>\n",
       "    </tr>\n",
       "    <tr>\n",
       "      <th>2020-07-01</th>\n",
       "      <td>488.230011</td>\n",
       "      <td>454.000000</td>\n",
       "      <td>454.000000</td>\n",
       "      <td>485.640015</td>\n",
       "      <td>9705900</td>\n",
       "      <td>485.640015</td>\n",
       "    </tr>\n",
       "    <tr>\n",
       "      <th>2020-07-02</th>\n",
       "      <td>492.279999</td>\n",
       "      <td>475.529999</td>\n",
       "      <td>485.640015</td>\n",
       "      <td>476.890015</td>\n",
       "      <td>6351500</td>\n",
       "      <td>476.890015</td>\n",
       "    </tr>\n",
       "    <tr>\n",
       "      <th>2020-07-06</th>\n",
       "      <td>499.500000</td>\n",
       "      <td>479.799988</td>\n",
       "      <td>480.769989</td>\n",
       "      <td>493.809998</td>\n",
       "      <td>7839000</td>\n",
       "      <td>493.809998</td>\n",
       "    </tr>\n",
       "    <tr>\n",
       "      <th>2020-07-07</th>\n",
       "      <td>504.820007</td>\n",
       "      <td>490.829987</td>\n",
       "      <td>497.309998</td>\n",
       "      <td>493.160004</td>\n",
       "      <td>5664300</td>\n",
       "      <td>493.160004</td>\n",
       "    </tr>\n",
       "    <tr>\n",
       "      <th>2020-07-08</th>\n",
       "      <td>499.600006</td>\n",
       "      <td>495.140015</td>\n",
       "      <td>497.310486</td>\n",
       "      <td>496.820007</td>\n",
       "      <td>451414</td>\n",
       "      <td>496.820007</td>\n",
       "    </tr>\n",
       "  </tbody>\n",
       "</table>\n",
       "<p>706 rows × 6 columns</p>\n",
       "</div>"
      ],
      "text/plain": [
       "                  High         Low        Open       Close   Volume  \\\n",
       "Date                                                                  \n",
       "2017-09-18  185.449997  182.729996  183.610001  184.619995  5359600   \n",
       "2017-09-19  186.229996  184.169998  184.979996  185.679993  4982100   \n",
       "2017-09-20  186.500000  183.199997  186.100006  185.509995  4625000   \n",
       "2017-09-21  189.949997  184.509995  185.820007  188.779999  7148100   \n",
       "2017-09-22  189.850006  186.389999  188.399994  187.350006  5464300   \n",
       "...                ...         ...         ...         ...      ...   \n",
       "2020-07-01  488.230011  454.000000  454.000000  485.640015  9705900   \n",
       "2020-07-02  492.279999  475.529999  485.640015  476.890015  6351500   \n",
       "2020-07-06  499.500000  479.799988  480.769989  493.809998  7839000   \n",
       "2020-07-07  504.820007  490.829987  497.309998  493.160004  5664300   \n",
       "2020-07-08  499.600006  495.140015  497.310486  496.820007   451414   \n",
       "\n",
       "             Adj Close  \n",
       "Date                    \n",
       "2017-09-18  184.619995  \n",
       "2017-09-19  185.679993  \n",
       "2017-09-20  185.509995  \n",
       "2017-09-21  188.779999  \n",
       "2017-09-22  187.350006  \n",
       "...                ...  \n",
       "2020-07-01  485.640015  \n",
       "2020-07-02  476.890015  \n",
       "2020-07-06  493.809998  \n",
       "2020-07-07  493.160004  \n",
       "2020-07-08  496.820007  \n",
       "\n",
       "[706 rows x 6 columns]"
      ]
     },
     "execution_count": 7,
     "metadata": {},
     "output_type": "execute_result"
    }
   ],
   "source": [
    "ohlcv"
   ]
  },
  {
   "cell_type": "code",
   "execution_count": 8,
   "metadata": {},
   "outputs": [],
   "source": [
    "def ATR(DF, n):\n",
    "    df = DF.copy()\n",
    "    df[\"H-L\"] = abs(df[\"High\"] - df[\"Low\"])\n",
    "    df[\"H-PC\"] = abs(df[\"High\"] - df[\"Adj Close\"].shift(1))\n",
    "    df[\"L-PC\"] = abs(df[\"Low\"] - df[\"Adj Close\"].shift(1))\n",
    "    df[\"TR\"] = df[[\"H-L\",\"H-PC\", \"L-PC\"]].max(axis=1, skipna=False)\n",
    "    df['ATR'] = df['TR'].rolling(n).mean()\n",
    "    df2 = df.drop([\"H-L\",\"H-PC\", \"L-PC\"], axis=1)\n",
    "    return df2 \n",
    "    "
   ]
  },
  {
   "cell_type": "code",
   "execution_count": 9,
   "metadata": {},
   "outputs": [],
   "source": [
    "atr = ATR(ohlcv, 20)"
   ]
  },
  {
   "cell_type": "code",
   "execution_count": 10,
   "metadata": {},
   "outputs": [],
   "source": [
    "def OBV(DF):\n",
    "    df = DF.copy()\n",
    "    df['daily_ret'] = df['Adj Close'].pct_change()\n",
    "    df['direction'] = np.where(df['daily_ret'] >= 0, 1, -1)\n",
    "    df['direction'][0]  = 0\n",
    "    df['vol_adj'] = df['Volume'] ^ df['direction']\n",
    "    df['obv'] = df['vol_adj'].cumsum()\n",
    "    return df['obv']"
   ]
  },
  {
   "cell_type": "code",
   "execution_count": 11,
   "metadata": {},
   "outputs": [
    {
     "name": "stderr",
     "output_type": "stream",
     "text": [
      "<ipython-input-10-5fcde93b741c>:5: SettingWithCopyWarning: \n",
      "A value is trying to be set on a copy of a slice from a DataFrame\n",
      "\n",
      "See the caveats in the documentation: https://pandas.pydata.org/pandas-docs/stable/user_guide/indexing.html#returning-a-view-versus-a-copy\n",
      "  df['direction'][0]  = 0\n"
     ]
    }
   ],
   "source": [
    "obv = OBV(ohlcv)"
   ]
  },
  {
   "cell_type": "code",
   "execution_count": 12,
   "metadata": {},
   "outputs": [
    {
     "data": {
      "text/plain": [
       "Date\n",
       "2017-09-18      5359600\n",
       "2017-09-19     10341701\n",
       "2017-09-20      5716700\n",
       "2017-09-21     12864801\n",
       "2017-09-22      7400500\n",
       "                ...    \n",
       "2020-07-01    210035323\n",
       "2020-07-02    203683822\n",
       "2020-07-06    211522823\n",
       "2020-07-07    205858522\n",
       "2020-07-08    206309937\n",
       "Name: obv, Length: 706, dtype: int64"
      ]
     },
     "execution_count": 12,
     "metadata": {},
     "output_type": "execute_result"
    }
   ],
   "source": [
    "obv"
   ]
  },
  {
   "cell_type": "code",
   "execution_count": 13,
   "metadata": {},
   "outputs": [
    {
     "data": {
      "text/plain": [
       "<matplotlib.axes._subplots.AxesSubplot at 0x7f4d9a2d9280>"
      ]
     },
     "execution_count": 13,
     "metadata": {},
     "output_type": "execute_result"
    },
    {
     "data": {
      "image/png": "[encoded data removed]",
      "text/plain": [
       "<Figure size 432x288 with 1 Axes>"
      ]
     },
     "metadata": {
      "needs_background": "light"
     },
     "output_type": "display_data"
    }
   ],
   "source": [
    "obv.plot()"
   ]
  },
  {
   "cell_type": "code",
   "execution_count": null,
   "metadata": {},
   "outputs": [],
   "source": []
  }
 ],
 "metadata": {
  "kernelspec": {
   "display_name": "Python 3",
   "language": "python",
   "name": "python3"
  },
  "language_info": {
   "codemirror_mode": {
    "name": "ipython",
    "version": 3
   },
   "file_extension": ".py",
   "mimetype": "text/x-python",
   "name": "python",
   "nbconvert_exporter": "python",
   "pygments_lexer": "ipython3",
   "version": "3.8.3"
  }
 },
 "nbformat": 4,
 "nbformat_minor": 4
}
