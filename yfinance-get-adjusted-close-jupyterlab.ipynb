{
 "cells": [
  {
   "cell_type": "code",
   "execution_count": 7,
   "metadata": {},
   "outputs": [],
   "source": [
    "import datetime as dt\n",
    "import yfinance as yf\n",
    "import pandas as pd"
   ]
  },
  {
   "cell_type": "code",
   "execution_count": 8,
   "metadata": {},
   "outputs": [],
   "source": [
    "stocks = [\"AMZN\", \"MSFT\", \"FB\", \"GOOG\"]"
   ]
  },
  {
   "cell_type": "code",
   "execution_count": 9,
   "metadata": {},
   "outputs": [],
   "source": [
    "start = dt.datetime.today() - dt.timedelta(3650)"
   ]
  },
  {
   "cell_type": "code",
   "execution_count": 10,
   "metadata": {},
   "outputs": [],
   "source": [
    "end = dt.datetime.today()"
   ]
  },
  {
   "cell_type": "code",
   "execution_count": 16,
   "metadata": {},
   "outputs": [],
   "source": [
    "cl_price = pd.DataFrame()"
   ]
  },
  {
   "cell_type": "code",
   "execution_count": 17,
   "metadata": {},
   "outputs": [
    {
     "name": "stdout",
     "output_type": "stream",
     "text": [
      "[*********************100%***********************]  1 of 1 completed\n",
      "[*********************100%***********************]  1 of 1 completed\n",
      "[*********************100%***********************]  1 of 1 completed\n",
      "[*********************100%***********************]  1 of 1 completed\n"
     ]
    }
   ],
   "source": [
    "for ticker in stocks:\n",
    "    cl_price[ticker] = yf.download(ticker, start, end)[\"Adj Close\"]"
   ]
  },
  {
   "cell_type": "code",
   "execution_count": 18,
   "metadata": {},
   "outputs": [],
   "source": [
    "cl_price.fillna(method=\"bfill\", axis=0, inplace=True)"
   ]
  },
  {
   "cell_type": "code",
   "execution_count": 19,
   "metadata": {},
   "outputs": [
    {
     "data": {
      "text/html": [
       "<div>\n",
       "<style scoped>\n",
       "    .dataframe tbody tr th:only-of-type {\n",
       "        vertical-align: middle;\n",
       "    }\n",
       "\n",
       "    .dataframe tbody tr th {\n",
       "        vertical-align: top;\n",
       "    }\n",
       "\n",
       "    .dataframe thead th {\n",
       "        text-align: right;\n",
       "    }\n",
       "</style>\n",
       "<table border=\"1\" class=\"dataframe\">\n",
       "  <thead>\n",
       "    <tr style=\"text-align: right;\">\n",
       "      <th></th>\n",
       "      <th>AMZN</th>\n",
       "      <th>MSFT</th>\n",
       "      <th>FB</th>\n",
       "      <th>GOOG</th>\n",
       "    </tr>\n",
       "    <tr>\n",
       "      <th>Date</th>\n",
       "      <th></th>\n",
       "      <th></th>\n",
       "      <th></th>\n",
       "      <th></th>\n",
       "    </tr>\n",
       "  </thead>\n",
       "  <tbody>\n",
       "    <tr>\n",
       "      <th>2010-06-09</th>\n",
       "      <td>117.910004</td>\n",
       "      <td>19.583714</td>\n",
       "      <td>38.230000</td>\n",
       "      <td>236.124939</td>\n",
       "    </tr>\n",
       "    <tr>\n",
       "      <th>2010-06-10</th>\n",
       "      <td>123.209999</td>\n",
       "      <td>19.749605</td>\n",
       "      <td>38.230000</td>\n",
       "      <td>242.595688</td>\n",
       "    </tr>\n",
       "    <tr>\n",
       "      <th>2010-06-11</th>\n",
       "      <td>123.029999</td>\n",
       "      <td>20.271000</td>\n",
       "      <td>38.230000</td>\n",
       "      <td>243.337906</td>\n",
       "    </tr>\n",
       "    <tr>\n",
       "      <th>2010-06-14</th>\n",
       "      <td>123.830002</td>\n",
       "      <td>20.144600</td>\n",
       "      <td>38.230000</td>\n",
       "      <td>240.692825</td>\n",
       "    </tr>\n",
       "    <tr>\n",
       "      <th>2010-06-15</th>\n",
       "      <td>126.839996</td>\n",
       "      <td>20.997787</td>\n",
       "      <td>38.230000</td>\n",
       "      <td>248.065186</td>\n",
       "    </tr>\n",
       "    <tr>\n",
       "      <th>...</th>\n",
       "      <td>...</td>\n",
       "      <td>...</td>\n",
       "      <td>...</td>\n",
       "      <td>...</td>\n",
       "    </tr>\n",
       "    <tr>\n",
       "      <th>2020-06-01</th>\n",
       "      <td>2471.040039</td>\n",
       "      <td>182.830002</td>\n",
       "      <td>231.910004</td>\n",
       "      <td>1431.819946</td>\n",
       "    </tr>\n",
       "    <tr>\n",
       "      <th>2020-06-02</th>\n",
       "      <td>2472.409912</td>\n",
       "      <td>184.910004</td>\n",
       "      <td>232.720001</td>\n",
       "      <td>1439.219971</td>\n",
       "    </tr>\n",
       "    <tr>\n",
       "      <th>2020-06-03</th>\n",
       "      <td>2478.399902</td>\n",
       "      <td>185.360001</td>\n",
       "      <td>230.160004</td>\n",
       "      <td>1436.380005</td>\n",
       "    </tr>\n",
       "    <tr>\n",
       "      <th>2020-06-04</th>\n",
       "      <td>2460.600098</td>\n",
       "      <td>182.919998</td>\n",
       "      <td>226.289993</td>\n",
       "      <td>1412.180054</td>\n",
       "    </tr>\n",
       "    <tr>\n",
       "      <th>2020-06-05</th>\n",
       "      <td>2483.000000</td>\n",
       "      <td>187.199997</td>\n",
       "      <td>230.770004</td>\n",
       "      <td>1438.390015</td>\n",
       "    </tr>\n",
       "  </tbody>\n",
       "</table>\n",
       "<p>2516 rows × 4 columns</p>\n",
       "</div>"
      ],
      "text/plain": [
       "                   AMZN        MSFT          FB         GOOG\n",
       "Date                                                        \n",
       "2010-06-09   117.910004   19.583714   38.230000   236.124939\n",
       "2010-06-10   123.209999   19.749605   38.230000   242.595688\n",
       "2010-06-11   123.029999   20.271000   38.230000   243.337906\n",
       "2010-06-14   123.830002   20.144600   38.230000   240.692825\n",
       "2010-06-15   126.839996   20.997787   38.230000   248.065186\n",
       "...                 ...         ...         ...          ...\n",
       "2020-06-01  2471.040039  182.830002  231.910004  1431.819946\n",
       "2020-06-02  2472.409912  184.910004  232.720001  1439.219971\n",
       "2020-06-03  2478.399902  185.360001  230.160004  1436.380005\n",
       "2020-06-04  2460.600098  182.919998  226.289993  1412.180054\n",
       "2020-06-05  2483.000000  187.199997  230.770004  1438.390015\n",
       "\n",
       "[2516 rows x 4 columns]"
      ]
     },
     "execution_count": 19,
     "metadata": {},
     "output_type": "execute_result"
    }
   ],
   "source": [
    "cl_price.dropna(axis=0, how='any')"
   ]
  }
 ],
 "metadata": {
  "kernelspec": {
   "display_name": "Python 3.7.6 64-bit ('venv': venv)",
   "language": "python",
   "name": "python37664bitvenvvenv48f22a293e5e436dbfd183effcfe6559"
  },
  "language_info": {
   "codemirror_mode": {
    "name": "ipython",
    "version": 3
   },
   "file_extension": ".py",
   "mimetype": "text/x-python",
   "name": "python",
   "nbconvert_exporter": "python",
   "pygments_lexer": "ipython3",
   "version": "3.7.6"
  }
 },
 "nbformat": 4,
 "nbformat_minor": 4
}
