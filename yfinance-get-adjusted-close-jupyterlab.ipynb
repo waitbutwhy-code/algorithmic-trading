{
 "cells": [
  {
   "cell_type": "code",
   "execution_count": 3,
   "metadata": {},
   "outputs": [],
   "source": [
    "import datetime as dt\n",
    "import yfinance as yf\n",
    "import pandas as pd"
   ]
  },
  {
   "cell_type": "code",
   "execution_count": 4,
   "metadata": {},
   "outputs": [],
   "source": [
    "stocks = [\"AMZN\", \"MSFT\", \"FB\", \"GOOG\"]"
   ]
  },
  {
   "cell_type": "code",
   "execution_count": 5,
   "metadata": {},
   "outputs": [],
   "source": [
    "start = dt.datetime.today() - dt.timedelta(3650)"
   ]
  },
  {
   "cell_type": "code",
   "execution_count": 6,
   "metadata": {},
   "outputs": [],
   "source": [
    "end = dt.datetime.today()"
   ]
  },
  {
   "cell_type": "code",
   "execution_count": 7,
   "metadata": {},
   "outputs": [],
   "source": [
    "cl_price = pd.DataFrame()"
   ]
  },
  {
   "cell_type": "code",
   "execution_count": 8,
   "metadata": {},
   "outputs": [
    {
     "name": "stdout",
     "output_type": "stream",
     "text": [
      "[*********************100%***********************]  1 of 1 completed\n",
      "[*********************100%***********************]  1 of 1 completed\n",
      "[*********************100%***********************]  1 of 1 completed\n",
      "[*********************100%***********************]  1 of 1 completed\n"
     ]
    }
   ],
   "source": [
    "for ticker in stocks:\n",
    "    cl_price[ticker] = yf.download(ticker, start, end)[\"Adj Close\"]"
   ]
  },
  {
   "cell_type": "code",
   "execution_count": 9,
   "metadata": {},
   "outputs": [],
   "source": [
    "cl_price.fillna(method=\"bfill\", axis=0, inplace=True)"
   ]
  },
  {
   "cell_type": "code",
   "execution_count": 10,
   "metadata": {},
   "outputs": [
    {
     "data": {
      "text/html": [
       "<div>\n",
       "<style scoped>\n",
       "    .dataframe tbody tr th:only-of-type {\n",
       "        vertical-align: middle;\n",
       "    }\n",
       "\n",
       "    .dataframe tbody tr th {\n",
       "        vertical-align: top;\n",
       "    }\n",
       "\n",
       "    .dataframe thead th {\n",
       "        text-align: right;\n",
       "    }\n",
       "</style>\n",
       "<table border=\"1\" class=\"dataframe\">\n",
       "  <thead>\n",
       "    <tr style=\"text-align: right;\">\n",
       "      <th></th>\n",
       "      <th>AMZN</th>\n",
       "      <th>MSFT</th>\n",
       "      <th>FB</th>\n",
       "      <th>GOOG</th>\n",
       "    </tr>\n",
       "    <tr>\n",
       "      <th>Date</th>\n",
       "      <th></th>\n",
       "      <th></th>\n",
       "      <th></th>\n",
       "      <th></th>\n",
       "    </tr>\n",
       "  </thead>\n",
       "  <tbody>\n",
       "    <tr>\n",
       "      <th>2010-06-24</th>\n",
       "      <td>118.330002</td>\n",
       "      <td>19.749605</td>\n",
       "      <td>38.230000</td>\n",
       "      <td>236.662933</td>\n",
       "    </tr>\n",
       "    <tr>\n",
       "      <th>2010-06-25</th>\n",
       "      <td>121.000000</td>\n",
       "      <td>19.378315</td>\n",
       "      <td>38.230000</td>\n",
       "      <td>235.457443</td>\n",
       "    </tr>\n",
       "    <tr>\n",
       "      <th>2010-06-28</th>\n",
       "      <td>117.800003</td>\n",
       "      <td>19.204519</td>\n",
       "      <td>38.230000</td>\n",
       "      <td>235.158569</td>\n",
       "    </tr>\n",
       "    <tr>\n",
       "      <th>2010-06-29</th>\n",
       "      <td>108.610001</td>\n",
       "      <td>18.414534</td>\n",
       "      <td>38.230000</td>\n",
       "      <td>226.281845</td>\n",
       "    </tr>\n",
       "    <tr>\n",
       "      <th>2010-06-30</th>\n",
       "      <td>109.260002</td>\n",
       "      <td>18.177536</td>\n",
       "      <td>38.230000</td>\n",
       "      <td>221.644226</td>\n",
       "    </tr>\n",
       "    <tr>\n",
       "      <th>...</th>\n",
       "      <td>...</td>\n",
       "      <td>...</td>\n",
       "      <td>...</td>\n",
       "      <td>...</td>\n",
       "    </tr>\n",
       "    <tr>\n",
       "      <th>2020-06-15</th>\n",
       "      <td>2572.679932</td>\n",
       "      <td>188.940002</td>\n",
       "      <td>232.500000</td>\n",
       "      <td>1419.849976</td>\n",
       "    </tr>\n",
       "    <tr>\n",
       "      <th>2020-06-16</th>\n",
       "      <td>2615.270020</td>\n",
       "      <td>193.570007</td>\n",
       "      <td>235.649994</td>\n",
       "      <td>1442.719971</td>\n",
       "    </tr>\n",
       "    <tr>\n",
       "      <th>2020-06-17</th>\n",
       "      <td>2640.979980</td>\n",
       "      <td>194.240005</td>\n",
       "      <td>235.529999</td>\n",
       "      <td>1451.119995</td>\n",
       "    </tr>\n",
       "    <tr>\n",
       "      <th>2020-06-18</th>\n",
       "      <td>2653.979980</td>\n",
       "      <td>196.320007</td>\n",
       "      <td>235.940002</td>\n",
       "      <td>1435.959961</td>\n",
       "    </tr>\n",
       "    <tr>\n",
       "      <th>2020-06-19</th>\n",
       "      <td>2675.010010</td>\n",
       "      <td>195.149994</td>\n",
       "      <td>238.789993</td>\n",
       "      <td>1431.719971</td>\n",
       "    </tr>\n",
       "  </tbody>\n",
       "</table>\n",
       "<p>2515 rows × 4 columns</p>\n",
       "</div>"
      ],
      "text/plain": [
       "                   AMZN        MSFT          FB         GOOG\n",
       "Date                                                        \n",
       "2010-06-24   118.330002   19.749605   38.230000   236.662933\n",
       "2010-06-25   121.000000   19.378315   38.230000   235.457443\n",
       "2010-06-28   117.800003   19.204519   38.230000   235.158569\n",
       "2010-06-29   108.610001   18.414534   38.230000   226.281845\n",
       "2010-06-30   109.260002   18.177536   38.230000   221.644226\n",
       "...                 ...         ...         ...          ...\n",
       "2020-06-15  2572.679932  188.940002  232.500000  1419.849976\n",
       "2020-06-16  2615.270020  193.570007  235.649994  1442.719971\n",
       "2020-06-17  2640.979980  194.240005  235.529999  1451.119995\n",
       "2020-06-18  2653.979980  196.320007  235.940002  1435.959961\n",
       "2020-06-19  2675.010010  195.149994  238.789993  1431.719971\n",
       "\n",
       "[2515 rows x 4 columns]"
      ]
     },
     "execution_count": 10,
     "metadata": {},
     "output_type": "execute_result"
    }
   ],
   "source": [
    "cl_price.dropna(axis=0, how='any')"
   ]
  }
 ],
 "metadata": {
  "kernelspec": {
   "display_name": "Python 3",
   "language": "python",
   "name": "python3"
  },
  "language_info": {
   "codemirror_mode": {
    "name": "ipython",
    "version": 3
   },
   "file_extension": ".py",
   "mimetype": "text/x-python",
   "name": "python",
   "nbconvert_exporter": "python",
   "pygments_lexer": "ipython3",
   "version": "3.7.6"
  }
 },
 "nbformat": 4,
 "nbformat_minor": 4
}
